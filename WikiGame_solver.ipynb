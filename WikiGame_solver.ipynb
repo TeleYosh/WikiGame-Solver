{
 "cells": [
  {
   "cell_type": "code",
   "execution_count": 55,
   "metadata": {},
   "outputs": [
    {
     "name": "stdout",
     "output_type": "stream",
     "text": [
      "Starting analysis of XML file...\n",
      "30674 nodes added to the graph.\n",
      "Analysis finished.\n"
     ]
    }
   ],
   "source": [
    "import xml.sax\n",
    "import re\n",
    "import networkx as nx\n",
    "\n",
    "class PageHandler(xml.sax.ContentHandler):\n",
    "    def __init__(self, graph):\n",
    "        self.graph = graph\n",
    "        self.current_tag = \"\"\n",
    "        self.title = \"\"\n",
    "        self.ns = \"\"\n",
    "        self.page_count = 0\n",
    "\n",
    "    def startElement(self, tag, attributes):\n",
    "        self.current_tag = tag\n",
    "        if tag == \"page\":\n",
    "            self.title = \"\"\n",
    "            self.ns = \"\"\n",
    "\n",
    "    def characters(self, content):\n",
    "        if self.current_tag == \"title\":\n",
    "            self.title += content\n",
    "        elif self.current_tag == \"ns\":\n",
    "            self.ns += content\n",
    "\n",
    "    def endElement(self, tag):\n",
    "        if tag == \"page\":\n",
    "            if self.ns.strip() == \"0\":\n",
    "                self.graph.add_node(self.title.strip())\n",
    "                self.page_count += 1\n",
    "                if self.page_count % 100000 == 0:\n",
    "                    print(f\"{self.page_count} pages added to the graph...\")\n",
    "\n",
    "class LinkHandler(xml.sax.ContentHandler):\n",
    "    def __init__(self, graph):\n",
    "        self.graph = graph\n",
    "        self.current_tag = \"\"\n",
    "        self.in_text_tag = False\n",
    "        self.title = \"\"\n",
    "        self.text = \"\"\n",
    "        self.page_count = 0\n",
    "\n",
    "    def startElement(self, tag, attributes):\n",
    "        self.current_tag = tag\n",
    "        if tag == \"text\":\n",
    "            self.in_text_tag = True\n",
    "            self.text = \"\"\n",
    "        elif tag == \"title\":\n",
    "            self.title = \"\"\n",
    "\n",
    "    def characters(self, content):\n",
    "        if self.in_text_tag:\n",
    "            self.text += content\n",
    "        if self.current_tag == \"title\":\n",
    "            self.title += content\n",
    "\n",
    "    def endElement(self, tag):\n",
    "        if tag == \"text\":\n",
    "            self.in_text_tag = False\n",
    "            self.page_count += 1\n",
    "\n",
    "            source = self.title.strip()\n",
    "            if source in self.graph:  \n",
    "                links = re.findall(r\"\\[\\[([^\\]\\|]+)(?:\\|[^\\]]+)?\\]\\]\", self.text)\n",
    "                for link in links:\n",
    "                    target = link.strip()\n",
    "                    if target in self.graph:  \n",
    "                        self.graph.add_edge(source, target)\n",
    "\n",
    "if __name__ == \"__main__\":\n",
    "    graph = nx.DiGraph()\n",
    "\n",
    "    print(\"Starting analysis of XML file...\")\n",
    "\n",
    "    # Étape 1 : Collecte des titres de pages\n",
    "    parser = xml.sax.make_parser()\n",
    "    handler = PageHandler(graph)\n",
    "    parser.setContentHandler(handler)\n",
    "    parser.parse(\"arywiki-20240920-pages-articles.xml\")\n",
    "\n",
    "\n",
    "    print(f\"{len(graph.nodes)} nodes added to the graph.\")\n",
    "\n",
    "    # Étape 3 : Ajout des liens au graphe\n",
    "    parser = xml.sax.make_parser()\n",
    "    handler = LinkHandler(graph)\n",
    "    parser.setContentHandler(handler)\n",
    "    parser.parse(\"arywiki-20240920-pages-articles.xml\")\n",
    "\n",
    "    print(\"Analysis finished.\")"
   ]
  },
  {
   "cell_type": "code",
   "execution_count": 56,
   "metadata": {},
   "outputs": [],
   "source": [
    "def BFS(graph, starting_node, ending_node):\n",
    "    # creating the predecessor dict\n",
    "    visited = set()\n",
    "    queue = [starting_node]\n",
    "    predecessor = {starting_node:None}\n",
    "    while queue:\n",
    "        curr = queue.pop(0)\n",
    "        for neigh in graph.neighbors(curr):\n",
    "            if neigh not in visited and neigh not in predecessor:\n",
    "                queue.append(neigh)\n",
    "                predecessor[neigh] = curr\n",
    "                visited.add(neigh)\n",
    "        \n",
    "    # path finding\n",
    "    path = []\n",
    "    curr = ending_node\n",
    "    while curr != starting_node:\n",
    "        path.append(curr)\n",
    "        curr = predecessor[curr]\n",
    "    path.append(starting_node)\n",
    "    return path[::-1]"
   ]
  },
  {
   "cell_type": "code",
   "execution_count": 59,
   "metadata": {},
   "outputs": [
    {
     "name": "stdout",
     "output_type": "stream",
     "text": [
      "['وان پيس', 'لمغريب', 'لإمبراطورية الرومانية']\n"
     ]
    }
   ],
   "source": [
    "starting_node = 'وان پيس'\n",
    "ending_node = 'لإمبراطورية الرومانية'\n",
    "if starting_node in graph and ending_node in graph:\n",
    "    path = BFS(graph, starting_node, ending_node)\n",
    "    print(path)"
   ]
  }
 ],
 "metadata": {
  "kernelspec": {
   "display_name": "vid_env",
   "language": "python",
   "name": "python3"
  },
  "language_info": {
   "codemirror_mode": {
    "name": "ipython",
    "version": 3
   },
   "file_extension": ".py",
   "mimetype": "text/x-python",
   "name": "python",
   "nbconvert_exporter": "python",
   "pygments_lexer": "ipython3",
   "version": "3.12.5"
  }
 },
 "nbformat": 4,
 "nbformat_minor": 2
}
